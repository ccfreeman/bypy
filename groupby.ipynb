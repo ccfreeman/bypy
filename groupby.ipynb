{
 "cells": [
  {
   "cell_type": "code",
   "execution_count": 1,
   "metadata": {},
   "outputs": [],
   "source": [
    "import numpy as np\n",
    "from numba import jit\n",
    "import pandas as pd\n",
    "\n",
    "# from bypy.unique import unique\n",
    "\n",
    "from collections import defaultdict\n",
    "\n",
    "from tqdm.notebook import trange"
   ]
  },
  {
   "cell_type": "code",
   "execution_count": 2,
   "metadata": {},
   "outputs": [],
   "source": [
    "class Group:\n",
    "    def __init__(self, n):\n",
    "        self.idx = np.full(n, False)\n",
    "\n",
    "    def add(self, i):\n",
    "        self.idx[i] = True"
   ]
  },
  {
   "cell_type": "code",
   "execution_count": 109,
   "metadata": {},
   "outputs": [],
   "source": [
    "class GroupBy:  \n",
    "\n",
    "    def __init__(self, ar, by):\n",
    "        \"\"\" Initialize the groupby object with a 2d array \"\"\"\n",
    "        \n",
    "        idx = (tuple(row) for row in ar[:, by])\n",
    "        \n",
    "#         # Use hashing to store each group. Each key corresponds to a Group object\n",
    "#         ii = 0\n",
    "        self.groups = defaultdict(lambda: 0)\n",
    "        for i, e in idx:\n",
    "            self.groups[e] += 2**i\n",
    "#             self.groups[i][ii] = True\n",
    "#             ii += 1\n",
    "        \n",
    "#         # Create the array holding the groups, and store the start/stop index of each group\n",
    "#         self.arr = np.empty(ar.shape, dtype=ar.dtype)\n",
    "#         self.gr_idx = np.empty(len(self.groups)+1, dtype=np.int32)\n",
    "#         self.gr_idx[0] = 0\n",
    "#         i, ii = 0, 1\n",
    "#         for idx, gr in self.groups.items():\n",
    "#             self.arr[i:i+gr.n] = gr.arr[:gr.n]\n",
    "#             i += gr.n\n",
    "#             self.gr_idx[ii] = i\n",
    "#             ii += 1\n",
    "        "
   ]
  },
  {
   "cell_type": "code",
   "execution_count": 110,
   "metadata": {},
   "outputs": [
    {
     "data": {
      "text/plain": [
       "array([[9, 3, 0, 1],\n",
       "       [0, 5, 8, 1],\n",
       "       [6, 1, 5, 3],\n",
       "       ...,\n",
       "       [6, 9, 4, 4],\n",
       "       [4, 0, 4, 0],\n",
       "       [4, 1, 5, 1]])"
      ]
     },
     "execution_count": 110,
     "metadata": {},
     "output_type": "execute_result"
    }
   ],
   "source": [
    "n, m = 10000, 4\n",
    "ar = np.random.randint(10, size=n*m).reshape((n,m))\n",
    "by = [0,1]\n",
    "ar"
   ]
  },
  {
   "cell_type": "code",
   "execution_count": 111,
   "metadata": {},
   "outputs": [
    {
     "name": "stdout",
     "output_type": "stream",
     "text": [
      "28 ms ± 301 µs per loop (mean ± std. dev. of 7 runs, 10 loops each)\n"
     ]
    }
   ],
   "source": [
    "%timeit GroupBy(ar, by=[0,1])"
   ]
  },
  {
   "cell_type": "code",
   "execution_count": null,
   "metadata": {},
   "outputs": [],
   "source": []
  },
  {
   "cell_type": "code",
   "execution_count": 53,
   "metadata": {},
   "outputs": [
    {
     "data": {
      "application/vnd.jupyter.widget-view+json": {
       "model_id": "fb9c4e6c1031422784d594f95ecd9025",
       "version_major": 2,
       "version_minor": 0
      },
      "text/plain": [
       "HBox(children=(FloatProgress(value=0.0), HTML(value='')))"
      ]
     },
     "metadata": {},
     "output_type": "display_data"
    },
    {
     "name": "stdout",
     "output_type": "stream",
     "text": [
      "\n",
      " "
     ]
    }
   ],
   "source": [
    "%prun [GroupBy(ar, by=[0,1]) for i in trange(100)];"
   ]
  },
  {
   "cell_type": "code",
   "execution_count": 108,
   "metadata": {},
   "outputs": [
    {
     "name": "stdout",
     "output_type": "stream",
     "text": [
      "378 µs ± 7.84 µs per loop (mean ± std. dev. of 7 runs, 1000 loops each)\n"
     ]
    }
   ],
   "source": [
    "%timeit pd.DataFrame(ar).groupby([0,1])"
   ]
  }
 ],
 "metadata": {
  "kernelspec": {
   "display_name": "Python 3",
   "language": "python",
   "name": "python3"
  },
  "language_info": {
   "codemirror_mode": {
    "name": "ipython",
    "version": 3
   },
   "file_extension": ".py",
   "mimetype": "text/x-python",
   "name": "python",
   "nbconvert_exporter": "python",
   "pygments_lexer": "ipython3",
   "version": "3.7.0"
  }
 },
 "nbformat": 4,
 "nbformat_minor": 5
}
